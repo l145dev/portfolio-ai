{
 "cells": [
  {
   "cell_type": "markdown",
   "id": "a71e4445",
   "metadata": {},
   "source": [
    "Install and initialize chromadb"
   ]
  },
  {
   "cell_type": "code",
   "execution_count": 1,
   "id": "b549f70c",
   "metadata": {},
   "outputs": [
    {
     "name": "stderr",
     "output_type": "stream",
     "text": [
      "Python-dotenv could not parse statement starting at line 4\n",
      "Python-dotenv could not parse statement starting at line 4\n",
      "Python-dotenv could not parse statement starting at line 4\n",
      "Python-dotenv could not parse statement starting at line 4\n",
      "Python-dotenv could not parse statement starting at line 4\n",
      "Python-dotenv could not parse statement starting at line 4\n",
      "Python-dotenv could not parse statement starting at line 4\n"
     ]
    }
   ],
   "source": [
    "import chromadb"
   ]
  },
  {
   "cell_type": "markdown",
   "id": "8826c6d9",
   "metadata": {},
   "source": [
    "LlamaIndex Loader (Docs)"
   ]
  },
  {
   "cell_type": "code",
   "execution_count": 2,
   "id": "61ae53ac",
   "metadata": {},
   "outputs": [],
   "source": [
    "from llama_index.core import SimpleDirectoryReader\n",
    "\n",
    "docs_dir = \"docs\"\n",
    "documents = SimpleDirectoryReader(docs_dir).load_data()"
   ]
  },
  {
   "cell_type": "markdown",
   "id": "74d21241",
   "metadata": {},
   "source": [
    "LlamaIndex Chunking (+ Enrich metadata)"
   ]
  },
  {
   "cell_type": "code",
   "execution_count": 3,
   "id": "46e6ade8",
   "metadata": {},
   "outputs": [],
   "source": [
    "def extract_kv_metadata(text):\n",
    "    metadata = {}\n",
    "    current_list_key = None\n",
    "    # Split lines, remove leading/trailing whitespace\n",
    "    for line in text.splitlines():\n",
    "        line = line.strip()\n",
    "        # Check for main key-value pair\n",
    "        if (line.startswith(\"- \") and \":\" in line[2:]):\n",
    "            item = line[2:]  # Remove leading \"- \"\n",
    "            key, value = item.split(\":\", 1)\n",
    "            metadata[key.strip().lower()] = value.strip()\n",
    "            current_list_key = key.strip().lower() if value.strip() == \"\" else None\n",
    "        # Check for inner list under previous key (like under \"Languages\" or \"Contact\")\n",
    "        elif (line.startswith(\"- \") and current_list_key):\n",
    "            value = line[2:].strip()\n",
    "            if current_list_key not in metadata or not isinstance(metadata[current_list_key], list):\n",
    "                metadata[current_list_key] = []\n",
    "            metadata[current_list_key].append(value)\n",
    "        # Also handle non-bullet \"Key: Value\"\n",
    "        elif \":\" in line and not line.startswith(\"#\"):\n",
    "            key, value = line.split(\":\", 1)\n",
    "            metadata[key.strip().lower()] = value.strip()\n",
    "            current_list_key = None\n",
    "        else:\n",
    "            current_list_key = None  # reset if not a valid list item\n",
    "    return metadata\n"
   ]
  },
  {
   "cell_type": "code",
   "execution_count": 4,
   "id": "49b8a0f6",
   "metadata": {},
   "outputs": [
    {
     "name": "stdout",
     "output_type": "stream",
     "text": [
      "{'file_path': 'c:\\\\Users\\\\aryan\\\\OneDrive - Thomas More\\\\FoolingAround\\\\portfolioRAG\\\\docs\\\\portfolio.md', 'file_name': 'portfolio.md', 'file_type': 'text/markdown', 'file_size': 11103, 'creation_date': '2025-10-12', 'last_modified_date': '2025-10-12', 'header_path': ' > '}\n",
      "# Aryan Shah Portfolio\n",
      "\n",
      "{'file_path': 'c:\\\\Users\\\\aryan\\\\OneDrive - Thomas More\\\\FoolingAround\\\\portfolioRAG\\\\docs\\\\portfolio.md', 'file_name': 'portfolio.md', 'file_type': 'text/markdown', 'file_size': 11103, 'creation_date': '2025-10-12', 'last_modified_date': '2025-10-12', 'header_path': ' > Aryan Shah Portfolio\\r > ', 'first name': 'Aryan', 'last name': 'Shah', 'age': '20', 'location': 'Antwerp, Belgium', 'portfolio': 'https://l145.be/'}\n",
      "## Personal Information\n",
      "\n",
      "- First Name: Aryan\n",
      "- Last Name: Shah\n",
      "- Age: 20\n",
      "- Location: Antwerp, Belgium\n",
      "- Portfolio: https://l145.be/\n",
      "\n",
      "{'file_path': 'c:\\\\Users\\\\aryan\\\\OneDrive - Thomas More\\\\FoolingAround\\\\portfolioRAG\\\\docs\\\\portfolio.md', 'file_name': 'portfolio.md', 'file_type': 'text/markdown', 'file_size': 11103, 'creation_date': '2025-10-12', 'last_modified_date': '2025-10-12', 'header_path': ' > Aryan Shah Portfolio\\r > Personal Information\\r > '}\n",
      "### Languages\n",
      "\n",
      "- English (Fluent)\n",
      "- Dutch (Fluent)\n",
      "- French (Elementary)\n",
      "- German (Basic)\n",
      "\n",
      "{'file_path': 'c:\\\\Users\\\\aryan\\\\OneDrive - Thomas More\\\\FoolingAround\\\\portfolioRAG\\\\docs\\\\portfolio.md', 'file_name': 'portfolio.md', 'file_type': 'text/markdown', 'file_size': 11103, 'creation_date': '2025-10-12', 'last_modified_date': '2025-10-12', 'header_path': ' > Aryan Shah Portfolio\\r > Personal Information\\r > ', 'email': 'aryan.shah@l145.be', 'phone': '+32 491 75 09 43', 'linkedin': 'https://www.linkedin.com/in/aryan-shah-l145', 'github': 'https://github.com/l145dev'}\n",
      "### Contact\n",
      "\n",
      "- Email: aryan.shah@l145.be\n",
      "- Phone: +32 491 75 09 43\n",
      "- LinkedIn: https://www.linkedin.com/in/aryan-shah-l145\n",
      "- GitHub: https://github.com/l145dev\n",
      "\n",
      "{'file_path': 'c:\\\\Users\\\\aryan\\\\OneDrive - Thomas More\\\\FoolingAround\\\\portfolioRAG\\\\docs\\\\portfolio.md', 'file_name': 'portfolio.md', 'file_type': 'text/markdown', 'file_size': 11103, 'creation_date': '2025-10-12', 'last_modified_date': '2025-10-12', 'header_path': ' > Aryan Shah Portfolio\\r > '}\n",
      "## Career Focus\n",
      "\n",
      "- Software Development (Full-stack + AI/ML)\n",
      "\n",
      "{'file_path': 'c:\\\\Users\\\\aryan\\\\OneDrive - Thomas More\\\\FoolingAround\\\\portfolioRAG\\\\docs\\\\portfolio.md', 'file_name': 'portfolio.md', 'file_type': 'text/markdown', 'file_size': 11103, 'creation_date': '2025-10-12', 'last_modified_date': '2025-10-12', 'header_path': ' > Aryan Shah Portfolio\\r > '}\n",
      "## Skills\n",
      "\n",
      "{'file_path': 'c:\\\\Users\\\\aryan\\\\OneDrive - Thomas More\\\\FoolingAround\\\\portfolioRAG\\\\docs\\\\portfolio.md', 'file_name': 'portfolio.md', 'file_type': 'text/markdown', 'file_size': 11103, 'creation_date': '2025-10-12', 'last_modified_date': '2025-10-12', 'header_path': ' > Aryan Shah Portfolio\\r > Skills\\r > '}\n",
      "### Programming Languages\n",
      "\n",
      "- JavaScript\n",
      "- TypeScript\n",
      "- Python\n",
      "- C#\n",
      "- Java\n",
      "- HTML\n",
      "- CSS\n",
      "- SQL\n",
      "- Bash\n",
      "\n",
      "{'file_path': 'c:\\\\Users\\\\aryan\\\\OneDrive - Thomas More\\\\FoolingAround\\\\portfolioRAG\\\\docs\\\\portfolio.md', 'file_name': 'portfolio.md', 'file_type': 'text/markdown', 'file_size': 11103, 'creation_date': '2025-10-12', 'last_modified_date': '2025-10-12', 'header_path': ' > Aryan Shah Portfolio\\r > Skills\\r > '}\n",
      "### Frameworks & Libraries\n",
      "\n",
      "- React\n",
      "- Vue\n",
      "- Node.js\n",
      "- Express\n",
      "- FastAPI\n",
      "- Tailwind CSS\n",
      "- .NET\n",
      "- ChromaDB\n",
      "- LlamaIndex\n",
      "\n",
      "{'file_path': 'c:\\\\Users\\\\aryan\\\\OneDrive - Thomas More\\\\FoolingAround\\\\portfolioRAG\\\\docs\\\\portfolio.md', 'file_name': 'portfolio.md', 'file_type': 'text/markdown', 'file_size': 11103, 'creation_date': '2025-10-12', 'last_modified_date': '2025-10-12', 'header_path': ' > Aryan Shah Portfolio\\r > Skills\\r > '}\n",
      "### Databases\n",
      "\n",
      "- MySQL\n",
      "- PostgreSQL\n",
      "\n",
      "{'file_path': 'c:\\\\Users\\\\aryan\\\\OneDrive - Thomas More\\\\FoolingAround\\\\portfolioRAG\\\\docs\\\\portfolio.md', 'file_name': 'portfolio.md', 'file_type': 'text/markdown', 'file_size': 11103, 'creation_date': '2025-10-12', 'last_modified_date': '2025-10-12', 'header_path': ' > Aryan Shah Portfolio\\r > Skills\\r > '}\n",
      "### Tools\n",
      "\n",
      "- Git\n",
      "- Github\n",
      "- Docker\n",
      "- VS Code\n",
      "- Cursor\n",
      "- Postman\n",
      "- Figma\n",
      "- Linux\n",
      "- Excalidraw\n",
      "- Vercel\n",
      "- Render\n",
      "- Combell\n",
      "- Groq AI\n",
      "- Chroma Cloud\n",
      "- Prisma ORM\n",
      "- Supabase\n",
      "- Stripe\n",
      "\n",
      "{'file_path': 'c:\\\\Users\\\\aryan\\\\OneDrive - Thomas More\\\\FoolingAround\\\\portfolioRAG\\\\docs\\\\portfolio.md', 'file_name': 'portfolio.md', 'file_type': 'text/markdown', 'file_size': 11103, 'creation_date': '2025-10-12', 'last_modified_date': '2025-10-12', 'header_path': ' > Aryan Shah Portfolio\\r > Skills\\r > '}\n",
      "### Methodologies\n",
      "\n",
      "- Agile\n",
      "- Scrum\n",
      "\n",
      "{'file_path': 'c:\\\\Users\\\\aryan\\\\OneDrive - Thomas More\\\\FoolingAround\\\\portfolioRAG\\\\docs\\\\portfolio.md', 'file_name': 'portfolio.md', 'file_type': 'text/markdown', 'file_size': 11103, 'creation_date': '2025-10-12', 'last_modified_date': '2025-10-12', 'header_path': ' > Aryan Shah Portfolio\\r > '}\n",
      "## Experience\n",
      "\n",
      "{'file_path': 'c:\\\\Users\\\\aryan\\\\OneDrive - Thomas More\\\\FoolingAround\\\\portfolioRAG\\\\docs\\\\portfolio.md', 'file_name': 'portfolio.md', 'file_type': 'text/markdown', 'file_size': 11103, 'creation_date': '2025-10-12', 'last_modified_date': '2025-10-12', 'header_path': ' > Aryan Shah Portfolio\\r > Experience\\r > ', 'location': 'Leuven, Belgium', 'start': 'July 2025', 'end': 'September 2025', 'technologies': 'Figma, React, TypeScript, MUI, MobX, Three.js, Vitest, Docker, LLDAP'}\n",
      "### Frontend & Cybersecurity Intern – Pickit3D\n",
      "\n",
      "- Location: Leuven, Belgium\n",
      "- Start: July 2025\n",
      "- End: September 2025\n",
      "- Technologies: Figma, React, TypeScript, MUI, MobX, Three.js, Vitest, Docker, LLDAP\n",
      "\n",
      "{'file_path': 'c:\\\\Users\\\\aryan\\\\OneDrive - Thomas More\\\\FoolingAround\\\\portfolioRAG\\\\docs\\\\portfolio.md', 'file_name': 'portfolio.md', 'file_type': 'text/markdown', 'file_size': 11103, 'creation_date': '2025-10-12', 'last_modified_date': '2025-10-12', 'header_path': ' > Aryan Shah Portfolio\\r > Experience\\r > Frontend & Cybersecurity Intern – Pickit3D\\r > '}\n",
      "#### Description\n",
      "\n",
      "- Enhanced a 3D camera selector web application using Figma, React (TypeScript), MUI, MobX, Three.js, Vitest to improve UI/UX, performance, documentation, and clean code. Implemented LLDAP server on a Docker container to manage user authentication and authorization, ensuring secure access to company resources.\n",
      "\n",
      "{'file_path': 'c:\\\\Users\\\\aryan\\\\OneDrive - Thomas More\\\\FoolingAround\\\\portfolioRAG\\\\docs\\\\portfolio.md', 'file_name': 'portfolio.md', 'file_type': 'text/markdown', 'file_size': 11103, 'creation_date': '2025-10-12', 'last_modified_date': '2025-10-12', 'header_path': ' > Aryan Shah Portfolio\\r > Experience\\r > Frontend & Cybersecurity Intern – Pickit3D\\r > '}\n",
      "#### Picking 3D Internship Achievements\n",
      "\n",
      "{'file_path': 'c:\\\\Users\\\\aryan\\\\OneDrive - Thomas More\\\\FoolingAround\\\\portfolioRAG\\\\docs\\\\portfolio.md', 'file_name': 'portfolio.md', 'file_type': 'text/markdown', 'file_size': 11103, 'creation_date': '2025-10-12', 'last_modified_date': '2025-10-12', 'header_path': ' > Aryan Shah Portfolio\\r > Experience\\r > Frontend & Cybersecurity Intern – Pickit3D\\r > Picking 3D Internship Achievements\\r > '}\n",
      "##### Frontend Pickit 3D Internship Achievements\n",
      "\n",
      "- Redesigned Camera Selector UI/UX from scratch with mockups in Excalidraw and Figma, improving user experience and accessibility.\n",
      "- Collaborated with Sales and Application engineers to gather requirements and feedback, ensuring the application meets user needs.\n",
      "- Refactored code for better readability, maintainability, and performance.\n",
      "- Added unit selector feature to camera selector, allowing users to choose between metric and imperial units.\n",
      "- Added auto-scaler to camera selector to ensure 3D Visualization text remains readable depending on camera FoV.\n",
      "- Fixed general bugs and issues in main application used by thousands of companies worldwide.\n",
      "- Added accuracy by camera feature to enhance camera selection criteria.\n",
      "- Added application requirements input feature to tailor camera recommendations based on specific use cases.\n",
      "- Added URL parameters configuration to enable easy sharing of camera selections between experts and clients.\n",
      "- Improved documentation and clean code for better maintainability and collaboration.\n",
      "- Researched and documented dynamic accuracy calculations using custom tailored and optimized mathematical formulas to calculate accuracy based on user inputs and camera specifications.\n",
      "\n",
      "{'file_path': 'c:\\\\Users\\\\aryan\\\\OneDrive - Thomas More\\\\FoolingAround\\\\portfolioRAG\\\\docs\\\\portfolio.md', 'file_name': 'portfolio.md', 'file_type': 'text/markdown', 'file_size': 11103, 'creation_date': '2025-10-12', 'last_modified_date': '2025-10-12', 'header_path': ' > Aryan Shah Portfolio\\r > Experience\\r > Frontend & Cybersecurity Intern – Pickit3D\\r > Picking 3D Internship Achievements\\r > '}\n",
      "##### Cybersecurity Pickit 3D Internship Achievements\n",
      "\n",
      "- Implemented LLDAP server on Docker container to manage user authentication and authorization, ensuring secure access to company resources.\n",
      "\n",
      "{'file_path': 'c:\\\\Users\\\\aryan\\\\OneDrive - Thomas More\\\\FoolingAround\\\\portfolioRAG\\\\docs\\\\portfolio.md', 'file_name': 'portfolio.md', 'file_type': 'text/markdown', 'file_size': 11103, 'creation_date': '2025-10-12', 'last_modified_date': '2025-10-12', 'header_path': ' > Aryan Shah Portfolio\\r > '}\n",
      "## Education\n",
      "\n",
      "{'file_path': 'c:\\\\Users\\\\aryan\\\\OneDrive - Thomas More\\\\FoolingAround\\\\portfolioRAG\\\\docs\\\\portfolio.md', 'file_name': 'portfolio.md', 'file_type': 'text/markdown', 'file_size': 11103, 'creation_date': '2025-10-12', 'last_modified_date': '2025-10-12', 'header_path': ' > Aryan Shah Portfolio\\r > Education\\r > ', 'start year': '2023', 'end year': '2026', 'overall grade': '80%', 'description': 'Coursework includes web development, software development, networking, devops, databases, data analysis, data science, data engineering, machine learning, AI, and cybersecurity.'}\n",
      "### Bachelor's in Data Science, Protection & Security – Thomas More University of Applied Sciences\n",
      "\n",
      "- Start Year: 2023\n",
      "- End Year: 2026\n",
      "- Overall Grade: 80%\n",
      "- Description: Coursework includes web development, software development, networking, devops, databases, data analysis, data science, data engineering, machine learning, AI, and cybersecurity.\n",
      "\n",
      "{'file_path': 'c:\\\\Users\\\\aryan\\\\OneDrive - Thomas More\\\\FoolingAround\\\\portfolioRAG\\\\docs\\\\portfolio.md', 'file_name': 'portfolio.md', 'file_type': 'text/markdown', 'file_size': 11103, 'creation_date': '2025-10-12', 'last_modified_date': '2025-10-12', 'header_path': ' > Aryan Shah Portfolio\\r > Education\\r > ', 'start year': '2021', 'end year': '2023', 'overall grade': '75%', 'description': 'Coursework includes marketing, entrepreneurship, business economics, accounting, mathematics, science, and languages.'}\n",
      "### Secondary Education in Marketing & Entrepreneurship – Sint-Ludgardis Antwerpen\n",
      "\n",
      "- Start Year: 2021\n",
      "- End Year: 2023\n",
      "- Overall Grade: 75%\n",
      "- Description: Coursework includes marketing, entrepreneurship, business economics, accounting, mathematics, science, and languages.\n",
      "\n",
      "{'file_path': 'c:\\\\Users\\\\aryan\\\\OneDrive - Thomas More\\\\FoolingAround\\\\portfolioRAG\\\\docs\\\\portfolio.md', 'file_name': 'portfolio.md', 'file_type': 'text/markdown', 'file_size': 11103, 'creation_date': '2025-10-12', 'last_modified_date': '2025-10-12', 'header_path': ' > Aryan Shah Portfolio\\r > Education\\r > ', 'start year': '2017', 'end year': '2021', 'overall grade': '65%', 'description': 'Coursework includes economics, mathematics, and sciences.'}\n",
      "### Secondary Education in Economics & Mathematics – Onze-Lieve-Vrouw College Antwerpen\n",
      "\n",
      "- Start Year: 2017\n",
      "- End Year: 2021\n",
      "- Overall Grade: 65%\n",
      "- Description: Coursework includes economics, mathematics, and sciences.\n",
      "\n",
      "{'file_path': 'c:\\\\Users\\\\aryan\\\\OneDrive - Thomas More\\\\FoolingAround\\\\portfolioRAG\\\\docs\\\\portfolio.md', 'file_name': 'portfolio.md', 'file_type': 'text/markdown', 'file_size': 11103, 'creation_date': '2025-10-12', 'last_modified_date': '2025-10-12', 'header_path': ' > Aryan Shah Portfolio\\r > '}\n",
      "## Projects\n",
      "\n",
      "{'file_path': 'c:\\\\Users\\\\aryan\\\\OneDrive - Thomas More\\\\FoolingAround\\\\portfolioRAG\\\\docs\\\\portfolio.md', 'file_name': 'portfolio.md', 'file_type': 'text/markdown', 'file_size': 11103, 'creation_date': '2025-10-12', 'last_modified_date': '2025-10-12', 'header_path': ' > Aryan Shah Portfolio\\r > Projects\\r > ', 'description': 'A full-stack web application deployed on the cloud demonstrating robust development, connecting users with unique outdoor lodging experiences. This project explores dynamic data management and intuitive UI/UX for specialized accommodation discovery.', 'technologies': 'React, TypeScript, Node.js, Express, MySQL, Git, GitHub, Figma, Combell, Render, Postman, Prisma ORM, Supabase, Stripe, Groq AI', 'website': 'https://l145.be/airbnb-camping', 'github': 'https://github.com/l145dev/airbnb-for-campers'}\n",
      "### Airbnb Camping\n",
      "\n",
      "- Description: A full-stack web application deployed on the cloud demonstrating robust development, connecting users with unique outdoor lodging experiences. This project explores dynamic data management and intuitive UI/UX for specialized accommodation discovery.\n",
      "- Technologies: React, TypeScript, Node.js, Express, MySQL, Git, GitHub, Figma, Combell, Render, Postman, Prisma ORM, Supabase, Stripe, Groq AI\n",
      "- Website: https://l145.be/airbnb-camping\n",
      "- GitHub: https://github.com/l145dev/airbnb-for-campers\n",
      "\n",
      "{'file_path': 'c:\\\\Users\\\\aryan\\\\OneDrive - Thomas More\\\\FoolingAround\\\\portfolioRAG\\\\docs\\\\portfolio.md', 'file_name': 'portfolio.md', 'file_type': 'text/markdown', 'file_size': 11103, 'creation_date': '2025-10-12', 'last_modified_date': '2025-10-12', 'header_path': ' > Aryan Shah Portfolio\\r > Projects\\r > Airbnb Camping\\r > '}\n",
      "#### Airbnb Camping Features\n",
      "\n",
      "- Browse and search for camping properties by type, location, date, and guest count\n",
      "- View detailed property information, amenities, reviews, and ratings\n",
      "- Book properties with secure payment (Stripe, PayPal, Google Pay)\n",
      "- Manage trips and booking history\n",
      "- Leave reviews for properties after stays\n",
      "- Receive notifications (booking confirmations, reminders, etc.)\n",
      "- Support and password reset functionality\n",
      "- Become a host and list new camping properties\n",
      "- Manage property details, availability, and amenities\n",
      "- View and manage bookings, revenue, and property performance\n",
      "- Respond to reviews and manage notifications\n",
      "- Modern, responsive UI/UX (Figma-designed)\n",
      "- Session-based authentication (secure cookies)\n",
      "- Rate limiting and security best practices\n",
      "- Email notifications (support, password reset)\n",
      "- Autocomplete for city/country using GeoDB API\n",
      "- Groq AI usage in support message subject line creation for more comprehensive support handling.\n",
      "\n",
      "{'file_path': 'c:\\\\Users\\\\aryan\\\\OneDrive - Thomas More\\\\FoolingAround\\\\portfolioRAG\\\\docs\\\\portfolio.md', 'file_name': 'portfolio.md', 'file_type': 'text/markdown', 'file_size': 11103, 'creation_date': '2025-10-12', 'last_modified_date': '2025-10-12', 'header_path': ' > Aryan Shah Portfolio\\r > Projects\\r > ', 'description': 'Website to track countdowns for airing anime using JikanAPI. Fetches release schedules, calculates countdowns, and adds dynamic watch links for multiple shows.', 'technologies': 'JavaScript, HTML, CSS, Git, GitHub, Combell, JikanAPI', 'website': 'https://l145.be/anime-waiting-room', 'github': 'https://github.com/l145dev/anime-waiting-room'}\n",
      "### Anime Waiting Room\n",
      "\n",
      "- Description: Website to track countdowns for airing anime using JikanAPI. Fetches release schedules, calculates countdowns, and adds dynamic watch links for multiple shows.\n",
      "- Technologies: JavaScript, HTML, CSS, Git, GitHub, Combell, JikanAPI\n",
      "- Website: https://l145.be/anime-waiting-room\n",
      "- GitHub: https://github.com/l145dev/anime-waiting-room\n",
      "\n",
      "{'file_path': 'c:\\\\Users\\\\aryan\\\\OneDrive - Thomas More\\\\FoolingAround\\\\portfolioRAG\\\\docs\\\\portfolio.md', 'file_name': 'portfolio.md', 'file_type': 'text/markdown', 'file_size': 11103, 'creation_date': '2025-10-12', 'last_modified_date': '2025-10-12', 'header_path': ' > Aryan Shah Portfolio\\r > Projects\\r > Anime Waiting Room\\r > ', 'real-time countdown': 'Displays the time remaining until the next episode.', 'jikanapi integration': 'Fetches accurate anime release schedules.', 'dynamic watch links': 'Quickly jump to watch your favorite anime.', 'multi-anime support': 'Track multiple anime countdowns at the same time.', 'dynamic caching': 'Store your anime inputs locally and automatically load them in every time you re-open the site.'}\n",
      "#### Anime Waiting Room Features\n",
      "\n",
      "- Real-time Countdown: Displays the time remaining until the next episode.\n",
      "- JikanAPI Integration: Fetches accurate anime release schedules.\n",
      "- Dynamic Watch Links: Quickly jump to watch your favorite anime.\n",
      "- Multi-Anime Support: Track multiple anime countdowns at the same time.\n",
      "- Dynamic Caching: Store your anime inputs locally and automatically load them in every time you re-open the site.\n",
      "\n",
      "{'file_path': 'c:\\\\Users\\\\aryan\\\\OneDrive - Thomas More\\\\FoolingAround\\\\portfolioRAG\\\\docs\\\\portfolio.md', 'file_name': 'portfolio.md', 'file_type': 'text/markdown', 'file_size': 11103, 'creation_date': '2025-10-12', 'last_modified_date': '2025-10-12', 'header_path': ' > Aryan Shah Portfolio\\r > Projects\\r > ', 'description': \"A humorous AI chatbot that responds in the style of Donald Trump using Groq AI's llama-3.3-70b-versatile model.\", 'technologies': 'React, TypeScript, Express, NodeJS, Groq AI, Git, Github, Vercel, Combell', 'website': 'https://l145.be/trump-ai', 'github': 'https://github.com/l145dev/trump-ai'}\n",
      "### Trump AI\n",
      "\n",
      "- Description: A humorous AI chatbot that responds in the style of Donald Trump using Groq AI's llama-3.3-70b-versatile model.\n",
      "- Technologies: React, TypeScript, Express, NodeJS, Groq AI, Git, Github, Vercel, Combell\n",
      "- Website: https://l145.be/trump-ai\n",
      "- GitHub: https://github.com/l145dev/trump-ai\n",
      "\n",
      "{'file_path': 'c:\\\\Users\\\\aryan\\\\OneDrive - Thomas More\\\\FoolingAround\\\\portfolioRAG\\\\docs\\\\portfolio.md', 'file_name': 'portfolio.md', 'file_type': 'text/markdown', 'file_size': 11103, 'creation_date': '2025-10-12', 'last_modified_date': '2025-10-12', 'header_path': ' > Aryan Shah Portfolio\\r > Projects\\r > Trump AI\\r > ', 'trump-style responses': \"Engages users with witty replies mimicking Donald Trump's speech patterns.\", 'groq ai integration': 'Leverages advanced AI capabilities for natural language understanding.', 'user-friendly interface': 'Simple and intuitive design for seamless interactions.', 'multi-platform support': 'Accessible via web and mobile devices.'}\n",
      "#### Trump AI Features\n",
      "\n",
      "- Trump-style Responses: Engages users with witty replies mimicking Donald Trump's speech patterns.\n",
      "- Groq AI Integration: Leverages advanced AI capabilities for natural language understanding.\n",
      "- User-friendly Interface: Simple and intuitive design for seamless interactions.\n",
      "- Multi-platform Support: Accessible via web and mobile devices.\n",
      "\n",
      "{'file_path': 'c:\\\\Users\\\\aryan\\\\OneDrive - Thomas More\\\\FoolingAround\\\\portfolioRAG\\\\docs\\\\portfolio.md', 'file_name': 'portfolio.md', 'file_type': 'text/markdown', 'file_size': 11103, 'creation_date': '2025-10-12', 'last_modified_date': '2025-10-12', 'header_path': ' > Aryan Shah Portfolio\\r > Projects\\r > ', 'description': 'Apply LinkedIn #OPENTOWORK banner on any image to use on any social platform!', 'technologies': 'React, TypeScript, Git, Github, Combell', 'website': 'https://l145.be/opentowork-anywhere', 'github': 'https://github.com/l145dev/opentowork-anywhere'}\n",
      "### OPENTOWORK Anywhere\n",
      "\n",
      "- Description: Apply LinkedIn #OPENTOWORK banner on any image to use on any social platform!\n",
      "- Technologies: React, TypeScript, Git, Github, Combell\n",
      "- Website: https://l145.be/opentowork-anywhere\n",
      "- GitHub: https://github.com/l145dev/opentowork-anywhere\n",
      "\n",
      "{'file_path': 'c:\\\\Users\\\\aryan\\\\OneDrive - Thomas More\\\\FoolingAround\\\\portfolioRAG\\\\docs\\\\portfolio.md', 'file_name': 'portfolio.md', 'file_type': 'text/markdown', 'file_size': 11103, 'creation_date': '2025-10-12', 'last_modified_date': '2025-10-12', 'header_path': ' > Aryan Shah Portfolio\\r > Projects\\r > OPENTOWORK Anywhere\\r > '}\n",
      "#### OPENTOWORK Anywhere Features\n",
      "\n",
      "- Upload any image and apply the #OPENTOWORK banner.\n",
      "- Download the modified image for use on social platforms.\n",
      "- User-friendly interface for easy image editing.\n",
      "- Fully client side, no backend required.\n",
      "\n",
      "{'file_path': 'c:\\\\Users\\\\aryan\\\\OneDrive - Thomas More\\\\FoolingAround\\\\portfolioRAG\\\\docs\\\\portfolio.md', 'file_name': 'portfolio.md', 'file_type': 'text/markdown', 'file_size': 11103, 'creation_date': '2025-10-12', 'last_modified_date': '2025-10-12', 'header_path': ' > Aryan Shah Portfolio\\r > Projects\\r > ', 'description': \"Generate random (filtered) activities when you're bored. Features include: Keep track of generated activities, clean UI/UX, BoredAPI activities. Desktop application built with WPF .NET (C#).\", 'technologies': 'C#, .NET, JavaScript, HTML, CSS, WPF, Git, GitHub, BoredAPI', 'website': 'https://l145.be/project-actifuse', 'github': 'https://github.com/l145dev/ProjectActifuse'}\n",
      "### Project Actifuse\n",
      "\n",
      "- Description: Generate random (filtered) activities when you're bored. Features include: Keep track of generated activities, clean UI/UX, BoredAPI activities. Desktop application built with WPF .NET (C#).\n",
      "- Technologies: C#, .NET, JavaScript, HTML, CSS, WPF, Git, GitHub, BoredAPI\n",
      "- Website: https://l145.be/project-actifuse\n",
      "- GitHub: https://github.com/l145dev/ProjectActifuse\n",
      "\n",
      "{'file_path': 'c:\\\\Users\\\\aryan\\\\OneDrive - Thomas More\\\\FoolingAround\\\\portfolioRAG\\\\docs\\\\portfolio.md', 'file_name': 'portfolio.md', 'file_type': 'text/markdown', 'file_size': 11103, 'creation_date': '2025-10-12', 'last_modified_date': '2025-10-12', 'header_path': ' > Aryan Shah Portfolio\\r > Projects\\r > Project Actifuse\\r > '}\n",
      "#### Project Actifuse Features\n",
      "\n",
      "- Generate random activities based on user-defined filters (type, participants, price, accessibility).\n",
      "- Keep track of generated activities in a history log.\n",
      "- Clean and intuitive UI/UX for easy navigation.\n",
      "- Desktop application built with WPF .NET (C#) for Windows users.\n",
      "\n",
      "{'file_path': 'c:\\\\Users\\\\aryan\\\\OneDrive - Thomas More\\\\FoolingAround\\\\portfolioRAG\\\\docs\\\\portfolio.md', 'file_name': 'portfolio.md', 'file_type': 'text/markdown', 'file_size': 11103, 'creation_date': '2025-10-12', 'last_modified_date': '2025-10-12', 'header_path': ' > Aryan Shah Portfolio\\r > Projects\\r > ', 'description': 'Interactive dashboard with visualizations for in-depth analysis of Formula 1 data, key metrics, and trends.', 'technologies': 'Excel, Power BI, DAX, Git, GitHub', 'github': 'https://github.com/l145dev/F1-Data-Analysis'}\n",
      "### F1 Data Analysis\n",
      "\n",
      "- Description: Interactive dashboard with visualizations for in-depth analysis of Formula 1 data, key metrics, and trends.\n",
      "- Technologies: Excel, Power BI, DAX, Git, GitHub\n",
      "- GitHub: https://github.com/l145dev/F1-Data-Analysis\n",
      "\n",
      "{'file_path': 'c:\\\\Users\\\\aryan\\\\OneDrive - Thomas More\\\\FoolingAround\\\\portfolioRAG\\\\docs\\\\portfolio.md', 'file_name': 'portfolio.md', 'file_type': 'text/markdown', 'file_size': 11103, 'creation_date': '2025-10-12', 'last_modified_date': '2025-10-12', 'header_path': ' > Aryan Shah Portfolio\\r > Projects\\r > F1 Data Analysis\\r > ', 'data cleaning and preparation': 'Processed raw Formula 1 data for analysis.', 'interactive visualizations': 'Created charts and graphs to visualize key metrics and trends.', 'dashboard creation': 'Developed an interactive dashboard for easy data exploration.', 'insights generation': 'Analyzed data to uncover insights and patterns in Formula 1 racing.'}\n",
      "#### F1 Data Analysis Features\n",
      "\n",
      "- Data Cleaning and Preparation: Processed raw Formula 1 data for analysis.\n",
      "- Interactive Visualizations: Created charts and graphs to visualize key metrics and trends.\n",
      "- Dashboard Creation: Developed an interactive dashboard for easy data exploration.\n",
      "- Insights Generation: Analyzed data to uncover insights and patterns in Formula 1 racing.\n",
      "\n",
      "{'file_path': 'c:\\\\Users\\\\aryan\\\\OneDrive - Thomas More\\\\FoolingAround\\\\portfolioRAG\\\\docs\\\\portfolio.md', 'file_name': 'portfolio.md', 'file_type': 'text/markdown', 'file_size': 11103, 'creation_date': '2025-10-12', 'last_modified_date': '2025-10-12', 'header_path': ' > Aryan Shah Portfolio\\r > '}\n",
      "## Hackathons\n",
      "\n",
      "{'file_path': 'c:\\\\Users\\\\aryan\\\\OneDrive - Thomas More\\\\FoolingAround\\\\portfolioRAG\\\\docs\\\\portfolio.md', 'file_name': 'portfolio.md', 'file_type': 'text/markdown', 'file_size': 11103, 'creation_date': '2025-10-12', 'last_modified_date': '2025-10-12', 'header_path': ' > Aryan Shah Portfolio\\r > Hackathons\\r > ', 'role': 'Frontend Developer', 'date': 'March 2025', 'position': 'Participation', 'technologies': 'React, JavaScript, Python, Git, GitHub, Figma, Yahoo Finance API', 'description': 'Built a web application within 24 hours to tailor a visual roadmap for various financial goals with real-time market history data and Monte Carlo simulation for investment strategies.'}\n",
      "### Holy Hack Hackathon 2025\n",
      "\n",
      "- Role: Frontend Developer\n",
      "- Date: March 2025\n",
      "- Position: Participation\n",
      "- Technologies: React, JavaScript, Python, Git, GitHub, Figma, Yahoo Finance API\n",
      "- Description: Built a web application within 24 hours to tailor a visual roadmap for various financial goals with real-time market history data and Monte Carlo simulation for investment strategies.\n",
      "\n",
      "{'file_path': 'c:\\\\Users\\\\aryan\\\\OneDrive - Thomas More\\\\FoolingAround\\\\portfolioRAG\\\\docs\\\\portfolio.md', 'file_name': 'portfolio.md', 'file_type': 'text/markdown', 'file_size': 11103, 'creation_date': '2025-10-12', 'last_modified_date': '2025-10-12', 'header_path': ' > Aryan Shah Portfolio\\r > Hackathons\\r > Holy Hack Hackathon 2025\\r > '}\n",
      "#### Holy Hack Hackathon 2025 Achievements\n",
      "\n",
      "- Developed a user-friendly interface for setting and tracking financial goals.\n",
      "- Integrated real-time market data using Yahoo Finance API.\n",
      "- Implemented Monte Carlo simulation to visualize potential investment outcomes.\n",
      "- Collaborated effectively with a multidisciplinary team to deliver a functional prototype within the time limit.\n",
      "\n",
      "{'file_path': 'c:\\\\Users\\\\aryan\\\\OneDrive - Thomas More\\\\FoolingAround\\\\portfolioRAG\\\\docs\\\\portfolio.md', 'file_name': 'portfolio.md', 'file_type': 'text/markdown', 'file_size': 11103, 'creation_date': '2025-10-12', 'last_modified_date': '2025-10-12', 'header_path': ' > Aryan Shah Portfolio\\r > Hackathons\\r > ', 'role': 'UI/UX Designer & Prototype Developer', 'date': 'March 2025', 'position': '2nd Place', 'technologies': 'Figma, PowerPoint, Git, GitHub', 'description': 'Developed and outlined a prototype for an underwater robot which gathers various data from Dijle river to tackle a real-world problem for City of Mechelen. Data is displayed in a user-friendly app in real-time.'}\n",
      "### TCS Design Thinking Hackathon 2025\n",
      "\n",
      "- Role: UI/UX Designer & Prototype Developer\n",
      "- Date: March 2025\n",
      "- Position: 2nd Place\n",
      "- Technologies: Figma, PowerPoint, Git, GitHub\n",
      "- Description: Developed and outlined a prototype for an underwater robot which gathers various data from Dijle river to tackle a real-world problem for City of Mechelen. Data is displayed in a user-friendly app in real-time.\n",
      "\n",
      "{'file_path': 'c:\\\\Users\\\\aryan\\\\OneDrive - Thomas More\\\\FoolingAround\\\\portfolioRAG\\\\docs\\\\portfolio.md', 'file_name': 'portfolio.md', 'file_type': 'text/markdown', 'file_size': 11103, 'creation_date': '2025-10-12', 'last_modified_date': '2025-10-12', 'header_path': ' > Aryan Shah Portfolio\\r > Hackathons\\r > TCS Design Thinking Hackathon 2025\\r > '}\n",
      "#### TCS Design Thinking Hackathon 2025 Achievements\n",
      "\n",
      "- Created wireframes and mockups for the underwater robot prototype.\n",
      "- Designed an intuitive user interface for the real-time data display application.\n",
      "- Presented the prototype to stakeholders and gathered feedback for improvements.\n",
      "\n",
      "{'file_path': 'c:\\\\Users\\\\aryan\\\\OneDrive - Thomas More\\\\FoolingAround\\\\portfolioRAG\\\\docs\\\\portfolio.md', 'file_name': 'portfolio.md', 'file_type': 'text/markdown', 'file_size': 11103, 'creation_date': '2025-10-12', 'last_modified_date': '2025-10-12', 'header_path': ' > Aryan Shah Portfolio\\r > Hackathons\\r > ', 'role': 'Data Consultant', 'date': 'April 2025', 'position': 'Participation', 'technologies': 'PowerPoint', 'description': 'Tackled a real-world data problem for Premium Sound Solutions by working with Delaware and PSS to enhance their data pipeline and add features on top of the existing infrastructure conceptually.'}\n",
      "### Delaware Hackathon 2025\n",
      "\n",
      "- Role: Data Consultant\n",
      "- Date: April 2025\n",
      "- Position: Participation\n",
      "- Technologies: PowerPoint\n",
      "- Description: Tackled a real-world data problem for Premium Sound Solutions by working with Delaware and PSS to enhance their data pipeline and add features on top of the existing infrastructure conceptually.\n",
      "\n",
      "{'file_path': 'c:\\\\Users\\\\aryan\\\\OneDrive - Thomas More\\\\FoolingAround\\\\portfolioRAG\\\\docs\\\\portfolio.md', 'file_name': 'portfolio.md', 'file_type': 'text/markdown', 'file_size': 11103, 'creation_date': '2025-10-12', 'last_modified_date': '2025-10-12', 'header_path': ' > Aryan Shah Portfolio\\r > Hackathons\\r > Delaware Hackathon 2025\\r > '}\n",
      "#### Delaware Hackathon 2025 Achievements\n",
      "\n",
      "- Analyzed the existing data pipeline and identified areas for improvement.\n",
      "- Proposed new features and enhancements to optimize data processing and analysis.\n",
      "- Collaborated with team members to develop a comprehensive solution for PSS.\n",
      "\n"
     ]
    }
   ],
   "source": [
    "from llama_index.core.node_parser import MarkdownNodeParser\n",
    "\n",
    "# Chunk and parse with MarkdownNodeParser\n",
    "parser = MarkdownNodeParser(\n",
    "    include_metadata=True,              # Attach section header path as metadata\n",
    "    include_prev_next_rel=True,         # Good for context awareness\n",
    "    header_path_separator=\" > \",        # Separator for hierarchy in metadata\n",
    ")\n",
    "\n",
    "chunked_documents = parser.get_nodes_from_documents(documents) # in this case, we only have portfolio.md\n",
    "\n",
    "# Create and attach metadata to chunked documents\n",
    "for node in chunked_documents:\n",
    "    kv_meta = extract_kv_metadata(node.get_content())\n",
    "    node.metadata = {**node.metadata, **kv_meta}  # merge with header_path, etc.\n",
    "\n",
    "    # debug view:\n",
    "    print(node.metadata)\n",
    "    print(node.get_content() + \"\\n\")"
   ]
  },
  {
   "cell_type": "markdown",
   "id": "af2d303d",
   "metadata": {},
   "source": [
    "Connect to ChromaDB (Dev server + Cloud)"
   ]
  },
  {
   "cell_type": "code",
   "execution_count": 6,
   "id": "f90ca81f",
   "metadata": {},
   "outputs": [
    {
     "name": "stderr",
     "output_type": "stream",
     "text": [
      "2025-10-13 22:02:26,996 - WARNING - Python-dotenv could not parse statement starting at line 4\n",
      "2025-10-13 22:02:26,997 - INFO - Anonymized telemetry enabled. See                     https://docs.trychroma.com/telemetry for more information.\n",
      "2025-10-13 22:02:27,210 - INFO - HTTP Request: GET http://localhost:8000/api/v2/auth/identity \"HTTP/1.1 200 OK\"\n",
      "2025-10-13 22:02:27,212 - INFO - Anonymized telemetry enabled. See                     https://docs.trychroma.com/telemetry for more information.\n",
      "2025-10-13 22:02:27,421 - INFO - HTTP Request: GET http://localhost:8000/api/v2/tenants/default_tenant \"HTTP/1.1 200 OK\"\n",
      "2025-10-13 22:02:27,425 - INFO - HTTP Request: GET http://localhost:8000/api/v2/tenants/default_tenant/databases/default_database \"HTTP/1.1 200 OK\"\n"
     ]
    }
   ],
   "source": [
    "# Dev server\n",
    "\n",
    "client = chromadb.HttpClient(host=\"localhost\", port=8000)"
   ]
  },
  {
   "cell_type": "code",
   "execution_count": 7,
   "id": "b98ebb06",
   "metadata": {},
   "outputs": [
    {
     "name": "stderr",
     "output_type": "stream",
     "text": [
      "2025-10-13 22:02:30,126 - INFO - HTTP Request: DELETE http://localhost:8000/api/v2/tenants/default_tenant/databases/default_database/collections/aryan_portfolio \"HTTP/1.1 200 OK\"\n"
     ]
    }
   ],
   "source": [
    "# Wipes the old collection to ensure fresh data\n",
    "# NUKES ENTIRE EXISTING COLLECTION, USE WITH CAUTION\n",
    "client.delete_collection(name=\"aryan_portfolio\") "
   ]
  },
  {
   "cell_type": "code",
   "execution_count": 8,
   "id": "6a3a4dea",
   "metadata": {},
   "outputs": [
    {
     "name": "stderr",
     "output_type": "stream",
     "text": [
      "2025-10-13 22:02:44,443 - INFO - HTTP Request: POST http://localhost:8000/api/v2/tenants/default_tenant/databases/default_database/collections \"HTTP/1.1 200 OK\"\n"
     ]
    }
   ],
   "source": [
    "# Dev server\n",
    "from llama_index.vector_stores.chroma import ChromaVectorStore\n",
    "from llama_index.core import StorageContext\n",
    "\n",
    "collection = client.get_or_create_collection(\"aryan_portfolio\")\n",
    "\n",
    "local_vector_store = ChromaVectorStore(\n",
    "    chroma_collection=collection\n",
    ")\n",
    "\n",
    "storage_context = StorageContext.from_defaults(vector_store=local_vector_store)"
   ]
  },
  {
   "cell_type": "code",
   "execution_count": null,
   "id": "9434c070",
   "metadata": {},
   "outputs": [],
   "source": [
    "# Cloud server\n",
    "from llama_index.vector_stores.chroma import ChromaVectorStore\n",
    "import os\n",
    "\n",
    "tenant = os.environ.get(\"CHROMA_TENANT\")\n",
    "database = os.environ.get(\"CHROMA_DATABASE\")\n",
    "\n",
    "if tenant and database:\n",
    "    cloud_vector_store = ChromaVectorStore(\n",
    "        collection_name=\"aryan_portfolio\",\n",
    "        chroma_api_impl=\"rest\",\n",
    "        chroma_api_impl_options={\n",
    "            \"host\": \"api.trychroma.com\", # f\"{tenant}.{database}.chroma.com\"\n",
    "            \"port\": 8000,\n",
    "            \"ssl\": True,\n",
    "            \"api_key\": os.environ.get(\"CHROMA_API_KEY\")\n",
    "        }\n",
    "    )\n",
    "\n",
    "else:\n",
    "    print(\"tenant and/or database environment variable not found!\")"
   ]
  },
  {
   "cell_type": "markdown",
   "id": "7016d52d",
   "metadata": {},
   "source": [
    "LlamaIndex Indexing"
   ]
  },
  {
   "cell_type": "code",
   "execution_count": 9,
   "id": "38efbcf1",
   "metadata": {},
   "outputs": [
    {
     "name": "stderr",
     "output_type": "stream",
     "text": [
      "2025-10-13 22:04:11,078 - INFO - Load pretrained SentenceTransformer: all-MiniLM-L6-v2\n",
      "2025-10-13 22:04:13,846 - INFO - 2 prompts are loaded, with the keys: ['query', 'text']\n",
      "2025-10-13 22:04:15,570 - INFO - HTTP Request: GET http://localhost:8000/api/v2/pre-flight-checks \"HTTP/1.1 200 OK\"\n",
      "2025-10-13 22:04:15,750 - INFO - HTTP Request: POST http://localhost:8000/api/v2/tenants/default_tenant/databases/default_database/collections/2a54dd59-3e59-49c5-bcc6-4bc94bdc507f/add \"HTTP/1.1 201 Created\"\n"
     ]
    }
   ],
   "source": [
    "from llama_index.core import VectorStoreIndex\n",
    "from llama_index.embeddings.huggingface import HuggingFaceEmbedding\n",
    "\n",
    "embed_model = HuggingFaceEmbedding(\"all-MiniLM-L6-v2\")\n",
    "\n",
    "index = VectorStoreIndex(chunked_documents, storage_context=storage_context, embed_model=embed_model)"
   ]
  },
  {
   "cell_type": "markdown",
   "id": "e7a9963c",
   "metadata": {},
   "source": [
    "LlamaIndex Retriever"
   ]
  },
  {
   "cell_type": "code",
   "execution_count": 15,
   "id": "0eb72cfd",
   "metadata": {},
   "outputs": [],
   "source": [
    "retriever = index.as_retriever(similarity_top_k=5)"
   ]
  },
  {
   "cell_type": "code",
   "execution_count": 23,
   "id": "c3804a5d",
   "metadata": {},
   "outputs": [
    {
     "name": "stderr",
     "output_type": "stream",
     "text": [
      "2025-10-13 22:13:07,018 - INFO - HTTP Request: POST http://localhost:8000/api/v2/tenants/default_tenant/databases/default_database/collections/2a54dd59-3e59-49c5-bcc6-4bc94bdc507f/query \"HTTP/1.1 200 OK\"\n"
     ]
    },
    {
     "name": "stdout",
     "output_type": "stream",
     "text": [
      "Score: 0.24465243703121758\n",
      "ID: e5e4046e-45ca-4491-ad6d-3d5ee46e3661\n",
      "Metadata: {'file_path': 'c:\\\\Users\\\\aryan\\\\OneDrive - Thomas More\\\\FoolingAround\\\\portfolioRAG\\\\docs\\\\portfolio.md', 'file_name': 'portfolio.md', 'file_type': 'text/markdown', 'file_size': 11103, 'creation_date': '2025-10-12', 'last_modified_date': '2025-10-12', 'header_path': ' > Aryan Shah Portfolio\\r > Education\\r > ', 'start year': '2023', 'end year': '2026', 'overall grade': '80%', 'description': 'Coursework includes web development, software development, networking, devops, databases, data analysis, data science, data engineering, machine learning, AI, and cybersecurity.'}\n",
      "Text: ### Bachelor's in Data Science, Protection & Security – Thomas More University of Applied Sciences\n",
      "\n",
      "- Start Year: 2023\n",
      "- End Year: 2026\n",
      "- Overall Grade: 80%\n",
      "- Description: Coursework includes web development, software development, networking, devops, databases, data analysis, data science, data engineering, machine learning, AI, and cybersecurity.\n",
      "---\n",
      "Score: 0.22176163282058875\n",
      "ID: ee5acda2-ce4b-474c-902a-93d357b04fcf\n",
      "Metadata: {'file_path': 'c:\\\\Users\\\\aryan\\\\OneDrive - Thomas More\\\\FoolingAround\\\\portfolioRAG\\\\docs\\\\portfolio.md', 'file_name': 'portfolio.md', 'file_type': 'text/markdown', 'file_size': 11103, 'creation_date': '2025-10-12', 'last_modified_date': '2025-10-12', 'header_path': ' > Aryan Shah Portfolio\\r > Projects\\r > ', 'description': \"Generate random (filtered) activities when you're bored. Features include: Keep track of generated activities, clean UI/UX, BoredAPI activities. Desktop application built with WPF .NET (C#).\", 'technologies': 'C#, .NET, JavaScript, HTML, CSS, WPF, Git, GitHub, BoredAPI', 'website': 'https://l145.be/project-actifuse', 'github': 'https://github.com/l145dev/ProjectActifuse'}\n",
      "Text: ### Project Actifuse\n",
      "\n",
      "- Description: Generate random (filtered) activities when you're bored. Features include: Keep track of generated activities, clean UI/UX, BoredAPI activities. Desktop application built with WPF .NET (C#).\n",
      "- Technologies: C#, .NET, JavaScript, HTML, CSS, WPF, Git, GitHub, BoredAPI\n",
      "- Website: https://l145.be/project-actifuse\n",
      "- GitHub: https://github.com/l145dev/ProjectActifuse\n",
      "---\n",
      "Score: 0.2150905880125112\n",
      "ID: 45ec651c-b99a-4ee5-9c12-b9f807a433f6\n",
      "Metadata: {'file_path': 'c:\\\\Users\\\\aryan\\\\OneDrive - Thomas More\\\\FoolingAround\\\\portfolioRAG\\\\docs\\\\portfolio.md', 'file_name': 'portfolio.md', 'file_type': 'text/markdown', 'file_size': 11103, 'creation_date': '2025-10-12', 'last_modified_date': '2025-10-12', 'header_path': ' > Aryan Shah Portfolio\\r > Hackathons\\r > ', 'role': 'Frontend Developer', 'date': 'March 2025', 'position': 'Participation', 'technologies': 'React, JavaScript, Python, Git, GitHub, Figma, Yahoo Finance API', 'description': 'Built a web application within 24 hours to tailor a visual roadmap for various financial goals with real-time market history data and Monte Carlo simulation for investment strategies.'}\n",
      "Text: ### Holy Hack Hackathon 2025\n",
      "\n",
      "- Role: Frontend Developer\n",
      "- Date: March 2025\n",
      "- Position: Participation\n",
      "- Technologies: React, JavaScript, Python, Git, GitHub, Figma, Yahoo Finance API\n",
      "- Description: Built a web application within 24 hours to tailor a visual roadmap for various financial goals with real-time market history data and Monte Carlo simulation for investment strategies.\n",
      "---\n",
      "Score: 0.21271415709736377\n",
      "ID: 82bda86c-b29e-4581-859c-85bd1a322a29\n",
      "Metadata: {'file_path': 'c:\\\\Users\\\\aryan\\\\OneDrive - Thomas More\\\\FoolingAround\\\\portfolioRAG\\\\docs\\\\portfolio.md', 'file_name': 'portfolio.md', 'file_type': 'text/markdown', 'file_size': 11103, 'creation_date': '2025-10-12', 'last_modified_date': '2025-10-12', 'header_path': ' > Aryan Shah Portfolio\\r > Education\\r > ', 'start year': '2021', 'end year': '2023', 'overall grade': '75%', 'description': 'Coursework includes marketing, entrepreneurship, business economics, accounting, mathematics, science, and languages.'}\n",
      "Text: ### Secondary Education in Marketing & Entrepreneurship – Sint-Ludgardis Antwerpen\n",
      "\n",
      "- Start Year: 2021\n",
      "- End Year: 2023\n",
      "- Overall Grade: 75%\n",
      "- Description: Coursework includes marketing, entrepreneurship, business economics, accounting, mathematics, science, and languages.\n",
      "---\n",
      "Score: 0.20637101220112702\n",
      "ID: 7daf4327-2fd6-4155-aa0c-479735ceb720\n",
      "Metadata: {'file_path': 'c:\\\\Users\\\\aryan\\\\OneDrive - Thomas More\\\\FoolingAround\\\\portfolioRAG\\\\docs\\\\portfolio.md', 'file_name': 'portfolio.md', 'file_type': 'text/markdown', 'file_size': 11103, 'creation_date': '2025-10-12', 'last_modified_date': '2025-10-12', 'header_path': ' > Aryan Shah Portfolio\\r > Hackathons\\r > ', 'role': 'Data Consultant', 'date': 'April 2025', 'position': 'Participation', 'technologies': 'PowerPoint', 'description': 'Tackled a real-world data problem for Premium Sound Solutions by working with Delaware and PSS to enhance their data pipeline and add features on top of the existing infrastructure conceptually.'}\n",
      "Text: ### Delaware Hackathon 2025\n",
      "\n",
      "- Role: Data Consultant\n",
      "- Date: April 2025\n",
      "- Position: Participation\n",
      "- Technologies: PowerPoint\n",
      "- Description: Tackled a real-world data problem for Premium Sound Solutions by working with Delaware and PSS to enhance their data pipeline and add features on top of the existing infrastructure conceptually.\n",
      "---\n"
     ]
    }
   ],
   "source": [
    "# test retriever\n",
    "\n",
    "results = retriever.retrieve(\"what are your achievements\")\n",
    "\n",
    "for item in results:\n",
    "    node = item.node\n",
    "    print(\"Score:\", item.score)\n",
    "    print(\"ID:\", node.id_)\n",
    "    print(\"Metadata:\", node.metadata)\n",
    "    print(\"Text:\", getattr(node, \"get_content\", lambda: node.get_content())())\n",
    "    print(\"---\")"
   ]
  },
  {
   "cell_type": "code",
   "execution_count": 27,
   "id": "f6f0439e",
   "metadata": {},
   "outputs": [
    {
     "name": "stderr",
     "output_type": "stream",
     "text": [
      "2025-10-13 22:23:34,164 - INFO - HTTP Request: POST http://localhost:8000/api/v2/tenants/default_tenant/databases/default_database/collections/2a54dd59-3e59-49c5-bcc6-4bc94bdc507f/query \"HTTP/1.1 200 OK\"\n"
     ]
    },
    {
     "name": "stdout",
     "output_type": "stream",
     "text": [
      "[['### Holy Hack Hackathon 2025\\r\\n\\r\\n- Role: Frontend Developer\\r\\n- Date: March 2025\\r\\n- Position: Participation\\r\\n- Technologies: React, JavaScript, Python, Git, GitHub, Figma, Yahoo Finance API\\r\\n- Description: Built a web application within 24 hours to tailor a visual roadmap for various financial goals with real-time market history data and Monte Carlo simulation for investment strategies.', \"#### Trump AI Features\\r\\n\\r\\n- Trump-style Responses: Engages users with witty replies mimicking Donald Trump's speech patterns.\\r\\n- Groq AI Integration: Leverages advanced AI capabilities for natural language understanding.\\r\\n- User-friendly Interface: Simple and intuitive design for seamless interactions.\\r\\n- Multi-platform Support: Accessible via web and mobile devices.\", \"### Trump AI\\r\\n\\r\\n- Description: A humorous AI chatbot that responds in the style of Donald Trump using Groq AI's llama-3.3-70b-versatile model.\\r\\n- Technologies: React, TypeScript, Express, NodeJS, Groq AI, Git, Github, Vercel, Combell\\r\\n- Website: https://l145.be/trump-ai\\r\\n- GitHub: https://github.com/l145dev/trump-ai\", '#### TCS Design Thinking Hackathon 2025 Achievements\\r\\n\\r\\n- Created wireframes and mockups for the underwater robot prototype.\\r\\n- Designed an intuitive user interface for the real-time data display application.\\r\\n- Presented the prototype to stakeholders and gathered feedback for improvements.', \"### Bachelor's in Data Science, Protection & Security – Thomas More University of Applied Sciences\\r\\n\\r\\n- Start Year: 2023\\r\\n- End Year: 2026\\r\\n- Overall Grade: 80%\\r\\n- Description: Coursework includes web development, software development, networking, devops, databases, data analysis, data science, data engineering, machine learning, AI, and cybersecurity.\", '### Airbnb Camping\\r\\n\\r\\n- Description: A full-stack web application deployed on the cloud demonstrating robust development, connecting users with unique outdoor lodging experiences. This project explores dynamic data management and intuitive UI/UX for specialized accommodation discovery.\\r\\n- Technologies: React, TypeScript, Node.js, Express, MySQL, Git, GitHub, Figma, Combell, Render, Postman, Prisma ORM, Supabase, Stripe, Groq AI\\r\\n- Website: https://l145.be/airbnb-camping\\r\\n- GitHub: https://github.com/l145dev/airbnb-for-campers', '### Programming Languages\\r\\n\\r\\n- JavaScript\\r\\n- TypeScript\\r\\n- Python\\r\\n- C#\\r\\n- Java\\r\\n- HTML\\r\\n- CSS\\r\\n- SQL\\r\\n- Bash', '### TCS Design Thinking Hackathon 2025\\r\\n\\r\\n- Role: UI/UX Designer & Prototype Developer\\r\\n- Date: March 2025\\r\\n- Position: 2nd Place\\r\\n- Technologies: Figma, PowerPoint, Git, GitHub\\r\\n- Description: Developed and outlined a prototype for an underwater robot which gathers various data from Dijle river to tackle a real-world problem for City of Mechelen. Data is displayed in a user-friendly app in real-time.', '#### Holy Hack Hackathon 2025 Achievements\\r\\n\\r\\n- Developed a user-friendly interface for setting and tracking financial goals.\\r\\n- Integrated real-time market data using Yahoo Finance API.\\r\\n- Implemented Monte Carlo simulation to visualize potential investment outcomes.\\r\\n- Collaborated effectively with a multidisciplinary team to deliver a functional prototype within the time limit.', '### Anime Waiting Room\\r\\n\\r\\n- Description: Website to track countdowns for airing anime using JikanAPI. Fetches release schedules, calculates countdowns, and adds dynamic watch links for multiple shows.\\r\\n- Technologies: JavaScript, HTML, CSS, Git, GitHub, Combell, JikanAPI\\r\\n- Website: https://l145.be/anime-waiting-room\\r\\n- GitHub: https://github.com/l145dev/anime-waiting-room']]\n"
     ]
    }
   ],
   "source": [
    "# try chroma query\n",
    "\n",
    "res = collection.query(\n",
    "    query_texts=[\"what programming languages do you know\"]\n",
    ")\n",
    "\n",
    "print(res['documents'])"
   ]
  },
  {
   "cell_type": "markdown",
   "id": "9669e5c4",
   "metadata": {},
   "source": [
    "Add LLM layer"
   ]
  },
  {
   "cell_type": "code",
   "execution_count": 11,
   "id": "8f639aee",
   "metadata": {},
   "outputs": [],
   "source": [
    "from groq import Groq\n",
    "import os\n",
    "from dotenv import load_dotenv"
   ]
  },
  {
   "cell_type": "markdown",
   "id": "b4e200c0",
   "metadata": {},
   "source": [
    "Initialize Groq"
   ]
  },
  {
   "cell_type": "code",
   "execution_count": 12,
   "id": "d4696984",
   "metadata": {},
   "outputs": [
    {
     "name": "stderr",
     "output_type": "stream",
     "text": [
      "Python-dotenv could not parse statement starting at line 4\n"
     ]
    }
   ],
   "source": [
    "load_dotenv()\n",
    "\n",
    "client = Groq(\n",
    "    api_key=os.environ.get(\"GROQ_KEY\"),\n",
    ")"
   ]
  },
  {
   "cell_type": "markdown",
   "id": "daf92963",
   "metadata": {},
   "source": [
    "Use user query for semantic search"
   ]
  },
  {
   "cell_type": "code",
   "execution_count": 35,
   "id": "5fcd75ab",
   "metadata": {},
   "outputs": [
    {
     "name": "stdout",
     "output_type": "stream",
     "text": [
      "{'ids': [['personal_info', 'education_0', 'hackathon_0', 'hackathon_1_tech_3', 'hackathon_1']], 'distances': [[1.2531397, 1.2962006, 1.2998523, 1.3314855, 1.3482904]], 'embeddings': None, 'metadatas': [[{'type': 'personal_info'}, {'type': 'education', 'degree': \"Bachelor's in Data Science, Protection & Security\", 'institution': 'Thomas More University of Applied Sciences'}, {'role': 'Frontend Developer', 'position': 'participation', 'type': 'hackathon', 'name': 'Holy Hack 2025'}, {'hackathon': 'TCS Design Thinking Hackathon 2025', 'type': 'technology'}, {'name': 'TCS Design Thinking Hackathon 2025', 'position': '2nd Place', 'type': 'hackathon', 'role': 'UI/UX Designer & Prototype Developer'}]], 'documents': [['My name is Aryan Shah, 20 years old, based in Antwerp, Belgium. My career focus is Frontend/Full-Stack Development.', \"I studied Bachelor's in Data Science, Protection & Security at Thomas More University of Applied Sciences (2023 - 2026). Coursework includes web development, software development, networking, devops, databases, data analysis, data science, data engineering, machine learning, AI, and cybersecurity.\", 'I participated in the Holy Hack 2025 as a Frontend Developer in March 2025. Built a web application within 24 hours to tailor a visual roadmap for various financial goals with real-time market history data and Monte Carlo simulation for investment strategies.', 'Technology used at TCS Design Thinking Hackathon 2025: GitHub', 'I participated in the TCS Design Thinking Hackathon 2025 as a UI/UX Designer & Prototype Developer in March 2025. Developed and outlined a prototype for an underwater robot which gathers various data from Dijle river to tackle a real-world problem for City of Mechelen. Data is displayed in a user-friendly app in real-time.']], 'uris': None, 'data': None, 'included': ['metadatas', 'documents', 'distances']}\n"
     ]
    }
   ],
   "source": [
    "user_query = input(\"What would you like to know about Aryan?: \")\n",
    "\n",
    "results = collection.query(\n",
    "    query_texts=[user_query],\n",
    "    n_results=5\n",
    ")\n",
    "\n",
    "print(results)"
   ]
  },
  {
   "cell_type": "markdown",
   "id": "79a56908",
   "metadata": {},
   "source": [
    "Prompting AI"
   ]
  },
  {
   "cell_type": "code",
   "execution_count": 36,
   "id": "f972f37a",
   "metadata": {},
   "outputs": [
    {
     "name": "stdout",
     "output_type": "stream",
     "text": [
      "I’m Aryan Shah, a front‑end / full‑stack developer who already built a real‑time web app from scratch in 24 hours during Holy Hack 2025.  I wrote the client side, wired it to live market data, and ran Monte Carlo simulations—all in a modern JavaScript stack that you’ll find aligns perfectly with React.\n",
      "\n",
      "**React‑style front‑end chops**  \n",
      "- In the hackathon I took full ownership of the UI, crafting reusable components and responsive layouts that delivered a polished user experience.  \n",
      "- I’m comfortable with state‑management patterns, component lifecycle, and CSS‑in‑JS—all the core skills that React teams rely on.\n",
      "\n",
      "**API‑side experience**  \n",
      "- The same project pulled data from external financial APIs, parsed JSON, and fed the results into the front‑end in real time.  \n",
      "- My coursework in web development and networking gave me hands‑on practice designing REST endpoints, handling authentication, and integrating third‑party services.\n",
      "\n",
      "**Broader foundation**  \n",
      "- Bachelor’s in Data Science, Protection & Security at Thomas More University covers software development, dev‑ops, databases, and data‑driven APIs.  \n",
      "- I’ve also prototype‑d a real‑time data display for an underwater robot in the TCS Design‑Thinking Hackathon, showing my ability to translate backend data into a user‑friendly UI.\n",
      "\n",
      "In short: I’ve built, I’ve integrated, I’ve delivered under tight timelines.  React and side‑car APIs?  That’s where I thrive."
     ]
    }
   ],
   "source": [
    "stream = client.chat.completions.create(\n",
    "    messages=[\n",
    "        {\n",
    "            \"role\": \"system\",\n",
    "            \"content\": \"\"\"\n",
    "                You will be Aryan and answer based on Aryan's portfolio with the following guidelines:\n",
    "\n",
    "                You will use the following writing style for all responses:\n",
    "                - True and authentic information only, no made up information.\n",
    "                - Direct, confident, and concise communication\n",
    "                - Professional yet conversational tone\n",
    "                - Clear structure with logical flow between ideas\n",
    "                - Emphasis on ownership and impact (\"I took full ownership\", \"I built\")\n",
    "                - Explicit alignment of skills/interests with the context\n",
    "                - Practical focus on value creation and application\n",
    "                - Active voice and strong action verbs\n",
    "                - Connecting personal experiences to broader relevance\n",
    "                - Concise paragraphs that get straight to the point\n",
    "                - Natural transitions between technical and personal aspects\n",
    "                \n",
    "                Example (Not to be used literally): As for my professional experience, it was mostly frontend based, where I \n",
    "                    took full ownership over a web-based tool used by various departments \n",
    "                    within the company. Since it was a specialized tool, communication was \n",
    "                    key to designing it in a way which is ideal for the use case. I built out the \n",
    "                    design and made tests to ensure the web application works as expected. \n",
    "                    This development cycle is not only related to the web, and can be carried \n",
    "                    over to any stack.\n",
    "\n",
    "                Important: If the information is not available in the context, respond with saying something like that it's not available and guide them to ask something relevant to the portfolio instead. Say this based on the user query in a funny (somewhat normally like a regular 20 year old student) way, flip the table smoothly.\n",
    "                VERY IMPORTANT: FACT CHECK THE INFORMATION, IF THE INFORMATION IS NOT IN THE CONTEXT, DO NOT INCLUDE IT.\n",
    "            \"\"\"\n",
    "        },\n",
    "        {\n",
    "            \"role\": \"user\",\n",
    "            \"content\": user_query + \"\\n\\nUse the following context from Aryan's portfolio to answer the question:\\n\" + str(results),\n",
    "        }\n",
    "    ],\n",
    "    model=\"openai/gpt-oss-20b\",\n",
    "    stream=True,\n",
    ")\n",
    "\n",
    "# Print the incremental deltas returned by the LLM.\n",
    "for chunk in stream:\n",
    "    if chunk.choices[0].delta.content is not None:\n",
    "        print(chunk.choices[0].delta.content, end=\"\")\n"
   ]
  }
 ],
 "metadata": {
  "kernelspec": {
   "display_name": "Python 3",
   "language": "python",
   "name": "python3"
  },
  "language_info": {
   "codemirror_mode": {
    "name": "ipython",
    "version": 3
   },
   "file_extension": ".py",
   "mimetype": "text/x-python",
   "name": "python",
   "nbconvert_exporter": "python",
   "pygments_lexer": "ipython3",
   "version": "3.13.1"
  }
 },
 "nbformat": 4,
 "nbformat_minor": 5
}
